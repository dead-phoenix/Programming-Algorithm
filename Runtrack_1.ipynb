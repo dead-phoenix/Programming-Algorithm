{
  "nbformat": 4,
  "nbformat_minor": 0,
  "metadata": {
    "colab": {
      "provenance": [],
      "toc_visible": true
    },
    "kernelspec": {
      "name": "python3",
      "display_name": "Python 3"
    },
    "language_info": {
      "name": "python"
    }
  },
  "cells": [
    {
      "cell_type": "markdown",
      "source": [
        "Job 1.0"
      ],
      "metadata": {
        "id": "B8l8ZBl81EdJ"
      }
    },
    {
      "cell_type": "code",
      "execution_count": null,
      "metadata": {
        "id": "7u08NkOdo1ak",
        "colab": {
          "base_uri": "https://localhost:8080/"
        },
        "outputId": "190f2d5e-6cff-402a-a6bf-d8d30a46d4c9"
      },
      "outputs": [
        {
          "output_type": "stream",
          "name": "stdout",
          "text": [
            "Enter value of n = 100\n",
            "1 2 Fizz 4 Buzz Fizz 7 8 Fizz Buzz 11 Fizz 13 14 Fizz 16 17 Fizz 19 Buzz Fizz 22 23 Fizz Buzz 26 Fizz 28 29 Fizz 31 32 Fizz 34 Buzz Fizz 37 38 Fizz Buzz 41 Fizz 43 44 Fizz 46 47 Fizz 49 Buzz Fizz 52 53 Fizz Buzz 56 Fizz 58 59 Fizz 61 62 Fizz 64 Buzz Fizz 67 68 Fizz Buzz 71 Fizz 73 74 Fizz 76 77 Fizz 79 Buzz Fizz 82 83 Fizz Buzz 86 Fizz 88 89 Fizz 91 92 Fizz 94 Buzz Fizz 97 98 Fizz Buzz\n"
          ]
        }
      ],
      "source": [
        "n = int(input(\"Enter value of n = \"))\n",
        "result = fizz_buzz(n)\n",
        "print(' '.join(result))\n",
        "\n",
        "#function\n",
        "def fizz_buzz(n):\n",
        "  result = []\n",
        "  for i in range(1,n+1):\n",
        "    if i % 3 == 0:\n",
        "      result.append(\"Fizz\")\n",
        "\n",
        "    elif i % 5 == 0:\n",
        "      result.append(\"Buzz\")\n",
        "\n",
        "    elif i % 3 == 0 and i % 5 == 0:\n",
        "      result.append(\"FizzBuzz\")\n",
        "\n",
        "    else:\n",
        "      result.append(str(i))\n",
        "  return result"
      ]
    },
    {
      "cell_type": "code",
      "source": [],
      "metadata": {
        "id": "WITlixCM0_WU"
      },
      "execution_count": null,
      "outputs": []
    },
    {
      "cell_type": "markdown",
      "source": [
        "# Job 1.1"
      ],
      "metadata": {
        "id": "L8t5vz5KwAG9"
      }
    },
    {
      "cell_type": "code",
      "source": [
        "def draw_rectangle(width, height):\n",
        "    if width < 2 or height < 2:\n",
        "        print(\"Width and height must be at least 2.\")\n",
        "        return\n",
        "\n",
        "    # Top border\n",
        "    for _ in range(height - 2):\n",
        "      print('|' + '-' * (width - 2) + '|')\n",
        "\n",
        "    # Middle section\n",
        "    for _ in range(height - 2):\n",
        "        print('|' + ' ' * (width - 2) + '|')\n",
        "\n",
        "    # Bottom border\n",
        "    if height > 1:\n",
        "      for _ in range(height - 2):\n",
        "        print('|' + '-' * (width - 2) + '|')\n",
        "\n",
        "# Example usage:\n",
        "width = int(input(\"Enter width = \"))\n",
        "height = int(input(\"Enter height = \"))\n",
        "draw_rectangle(width, height)"
      ],
      "metadata": {
        "colab": {
          "base_uri": "https://localhost:8080/"
        },
        "id": "BAe_FN4ewBKI",
        "outputId": "c15a30c1-6f24-4bb0-80d8-62295a8701c2"
      },
      "execution_count": null,
      "outputs": [
        {
          "output_type": "stream",
          "name": "stdout",
          "text": [
            "Enter width = 10\n",
            "Enter height = 3\n",
            "|--------|\n",
            "|        |\n",
            "|--------|\n"
          ]
        }
      ]
    },
    {
      "cell_type": "markdown",
      "source": [
        "Job 1.2"
      ],
      "metadata": {
        "id": "XbdAL1Qx1QqO"
      }
    },
    {
      "cell_type": "code",
      "source": [
        "def draw_triangle(height,n):\n",
        "    if height < 2:\n",
        "        print(\"Height must be at least 2.\")\n",
        "        return\n",
        "\n",
        "    # Print the top part of the triangle\n",
        "    for i in range(1, height):\n",
        "        print(' ' * (height - i - 1) + '/' + ' ' * (2 * i - 2) + '\\\\')\n",
        "\n",
        "    # Print the bottom line of the triangle\n",
        "    print(' ' * (height -(height+1)) + '/' + '_' * (height + n) + '\\\\')\n",
        "\n",
        "# Example usage:\n",
        "height = int(input(\"Enter height = \"))\n",
        "if height % 2 == 0:\n",
        "  n = 3\n",
        "else:\n",
        "  n = 2\n",
        "draw_triangle(height,n)\n"
      ],
      "metadata": {
        "colab": {
          "base_uri": "https://localhost:8080/"
        },
        "id": "zdAtv-_81WKb",
        "outputId": "0507cd12-5cac-4224-b95f-8759d1948212"
      },
      "execution_count": null,
      "outputs": [
        {
          "output_type": "stream",
          "name": "stdout",
          "text": [
            "Enter height = 5\n",
            "   /\\\n",
            "  /  \\\n",
            " /    \\\n",
            "/      \\\n",
            "/_______\\\n"
          ]
        }
      ]
    },
    {
      "cell_type": "markdown",
      "source": [
        "Job 1.3"
      ],
      "metadata": {
        "id": "9gymNbzOIvpL"
      }
    },
    {
      "cell_type": "code",
      "source": [
        "def round_grades(grades):\n",
        "    rounded_grades = []\n",
        "\n",
        "    for grade in grades:\n",
        "        if grade < 40:\n",
        "            # If the grade is less than 40, the student fails, so no rounding is needed.\n",
        "            rounded_grades.append(grade)\n",
        "        else:\n",
        "            # Find the next multiple of 5 greater than or equal to the grade.\n",
        "            next_multiple_of_5 = ((grade + 4) // 5) * 5\n",
        "            # Check if the difference between the next multiple of 5 and the grade is less than 3.\n",
        "            if next_multiple_of_5 - grade < 3:\n",
        "                # If the difference is less than 3, round the grade to the next multiple of 5.\n",
        "                rounded_grades.append(next_multiple_of_5)\n",
        "            else:\n",
        "                # If the difference is 3 or more, keep the grade as it is.\n",
        "                rounded_grades.append(grade)\n",
        "\n",
        "    return rounded_grades\n",
        "\n",
        "# Example usage:\n",
        "n = int(input(\"Number of scores:\"))\n",
        "student_scores = list(map(int, input(\"elements of array:-\").strip().split()))\n",
        "rounded_scores = round_grades(student_scores)\n",
        "print(rounded_scores)\n",
        "\n"
      ],
      "metadata": {
        "colab": {
          "base_uri": "https://localhost:8080/"
        },
        "id": "0-3-fxJGIxgQ",
        "outputId": "f427d393-281d-457c-c2cc-eac63f896bb0"
      },
      "execution_count": null,
      "outputs": [
        {
          "output_type": "stream",
          "name": "stdout",
          "text": [
            "Number of scores:5\n",
            "elements of array:-83 84 57 62 97\n",
            "[85, 85, 57, 62, 97]\n"
          ]
        }
      ]
    },
    {
      "cell_type": "markdown",
      "source": [
        "Job 1.4"
      ],
      "metadata": {
        "id": "7STLppeGLlGo"
      }
    },
    {
      "cell_type": "code",
      "source": [
        "def find_next_alphabetical_word(word):\n",
        "    # Convert the word to a list of characters for easier manipulation\n",
        "    word_list = list(word)\n",
        "\n",
        "    # Find the first character from the right that is not in ascending order\n",
        "    i = len(word) - 2\n",
        "    while i >= 0 and word_list[i] >= word_list[i + 1]:\n",
        "        i -= 1\n",
        "\n",
        "    if i == -1:\n",
        "        # If the word is already in descending order, no next word is possible\n",
        "        return None\n",
        "\n",
        "    # Find the smallest character to the right of i that is larger than word[i]\n",
        "    j = len(word) - 1\n",
        "    while word_list[j] <= word_list[i]:\n",
        "        j -= 1\n",
        "\n",
        "    # Swap the characters at positions i and j\n",
        "    word_list[i], word_list[j] = word_list[j], word_list[i]\n",
        "\n",
        "    # Reverse the substring to the right of i to make it in ascending order\n",
        "    word_list[i + 1:] = reversed(word_list[i + 1:])\n",
        "\n",
        "    # Convert the list back to a string\n",
        "    next_word = ''.join(word_list)\n",
        "\n",
        "    return next_word\n",
        "\n",
        "if __name__ == \"__main__\":\n",
        "    user_word = input(\"Enter a word with only lowercase letters: \")\n",
        "\n",
        "    # Check if the input word contains only lowercase letters\n",
        "    if not user_word.islower() or not user_word.isalpha():\n",
        "        print(\"Invalid input. Please enter a word with only lowercase letters.\")\n",
        "    else:\n",
        "        next_alphabetical_word = find_next_alphabetical_word(user_word)\n",
        "\n",
        "        if next_alphabetical_word:\n",
        "            print(f\"The closest word in alphabetical order is: {next_alphabetical_word}\")\n",
        "        else:\n",
        "            print(\"No next word is possible. The input word is already in descending order.\")"
      ],
      "metadata": {
        "colab": {
          "base_uri": "https://localhost:8080/"
        },
        "id": "TSD2F4DHLmQF",
        "outputId": "178447cc-dcbb-4ef3-c663-9e46f388283e"
      },
      "execution_count": null,
      "outputs": [
        {
          "output_type": "stream",
          "name": "stdout",
          "text": [
            "Enter a word with only lowercase letters: asdef\n",
            "The closest word in alphabetical order is: asdfe\n"
          ]
        }
      ]
    }
  ]
}