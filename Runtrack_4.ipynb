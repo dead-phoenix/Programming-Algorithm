{
  "nbformat": 4,
  "nbformat_minor": 0,
  "metadata": {
    "colab": {
      "provenance": []
    },
    "kernelspec": {
      "name": "python3",
      "display_name": "Python 3"
    },
    "language_info": {
      "name": "python"
    }
  },
  "cells": [
    {
      "cell_type": "markdown",
      "source": [
        "Job 4.0"
      ],
      "metadata": {
        "id": "aFzqIgog34Cn"
      }
    },
    {
      "cell_type": "code",
      "execution_count": null,
      "metadata": {
        "colab": {
          "base_uri": "https://localhost:8080/"
        },
        "id": "sO5nRvDK309s",
        "outputId": "6b5fa8a7-cee6-410a-f63a-e7583741b560"
      },
      "outputs": [
        {
          "output_type": "stream",
          "name": "stdout",
          "text": [
            "Enter the number -9\n",
            "Factorial of negative number doesn't exist\n"
          ]
        }
      ],
      "source": [
        "def factorial(n):\n",
        "  if n == 1:\n",
        "    return 1\n",
        "  else:\n",
        "    return n*factorial(n-1)\n",
        "\n",
        "n = int(input(\"Enter the number \"))\n",
        "\n",
        "if n<0:\n",
        "  print(\"Factorial of negative number doesn't exist!\")\n",
        "elif n == 0:\n",
        "  print(\"Factorial of 0 is 1\")\n",
        "else:\n",
        "  print(\"Factorial of \", n, \"is \", factorial(n))\n"
      ]
    },
    {
      "cell_type": "markdown",
      "source": [
        "Job4.1"
      ],
      "metadata": {
        "id": "H9XM-kawrbbY"
      }
    },
    {
      "cell_type": "code",
      "source": [
        "def sq(x,n):\n",
        "  if n == 1:\n",
        "    return x\n",
        "  elif n == 0:\n",
        "    return 1\n",
        "  else:\n",
        "    return x*x**(n-1)\n",
        "\n",
        "x = int(input(\"Enter the value of x: \"))\n",
        "n = int(input(\"Enter the value of n: \"))\n",
        "\n",
        "print(\"The \", n, \"power of \", x, \"is \", sq(x,n))"
      ],
      "metadata": {
        "id": "gXWW_IAy6eHK",
        "colab": {
          "base_uri": "https://localhost:8080/"
        },
        "outputId": "0e85961e-d512-44a8-b296-77873c153a30"
      },
      "execution_count": null,
      "outputs": [
        {
          "output_type": "stream",
          "name": "stdout",
          "text": [
            "Enter the value of x: 5\n",
            "Enter the value of n: -2\n",
            "The  -2 power of  5 is  0.04\n"
          ]
        }
      ]
    },
    {
      "cell_type": "markdown",
      "source": [
        "Job4.2"
      ],
      "metadata": {
        "id": "GYlwKz97rekw"
      }
    },
    {
      "cell_type": "code",
      "source": [
        "def is_safe(board, row, col, n):\n",
        "    # Check if there is any checker in the same row\n",
        "    for i in range(col):\n",
        "        if board[row][i] == 'X':\n",
        "            return False\n",
        "\n",
        "    # Check upper diagonal on the left\n",
        "    for i, j in zip(range(row, -1, -1), range(col, -1, -1)):\n",
        "        if board[i][j] == 'X':\n",
        "            return False\n",
        "\n",
        "    # Check lower diagonal on the left\n",
        "    for i, j in zip(range(row, n, 1), range(col, -1, -1)):\n",
        "        if board[i][j] == 'X':\n",
        "            return False\n",
        "\n",
        "    return True\n",
        "\n",
        "def solve_n_queens(n):\n",
        "    board = [['O' for _ in range(n)] for _ in range(n)]\n",
        "\n",
        "    if solve_n_queens_util(board, 0, n) is False:\n",
        "        print(\"Solution does not exist\")\n",
        "        return False\n",
        "\n",
        "    print_board(board)\n",
        "\n",
        "def solve_n_queens_util(board, col, n):\n",
        "    if col >= n:\n",
        "        return True\n",
        "\n",
        "    for i in range(n):\n",
        "        if is_safe(board, i, col, n):\n",
        "            board[i][col] = 'X'\n",
        "\n",
        "            if solve_n_queens_util(board, col + 1, n):\n",
        "                return True\n",
        "\n",
        "            board[i][col] = 'O'\n",
        "\n",
        "    return False\n",
        "\n",
        "def print_board(board):\n",
        "    for row in board:\n",
        "        print(' '.join(row))\n",
        "\n",
        "if __name__ == \"__main__\":\n",
        "    try:\n",
        "        n = int(input(\"Enter the value of n: \"))\n",
        "        solve_n_queens(n)\n",
        "    except ValueError:\n",
        "        print(\"Invalid input. Please enter a valid integer for n.\")"
      ],
      "metadata": {
        "id": "cM6AR6WUrhc4",
        "colab": {
          "base_uri": "https://localhost:8080/"
        },
        "outputId": "71485831-8b93-4c7e-8e0b-23b35646eb1f"
      },
      "execution_count": null,
      "outputs": [
        {
          "output_type": "stream",
          "name": "stdout",
          "text": [
            "Enter the value of n: 8\n",
            "X O O O O O O O\n",
            "O O O O O O X O\n",
            "O O O O X O O O\n",
            "O O O O O O O X\n",
            "O X O O O O O O\n",
            "O O O X O O O O\n",
            "O O O O O X O O\n",
            "O O X O O O O O\n"
          ]
        }
      ]
    },
    {
      "cell_type": "markdown",
      "source": [
        "Job 4.3"
      ],
      "metadata": {
        "id": "YStxgmOn4GUM"
      }
    },
    {
      "cell_type": "code",
      "source": [
        "#read the maze file\n",
        "file=open(\"/maze.mz.txt\",\"r\")\n",
        "maze=file.readlines()\n",
        "file.close()\n",
        "\n",
        "#making the maze a list of lists\n",
        "maze_list=[]\n",
        "for line in maze:\n",
        "    maze_list.append(list(line.strip()))\n",
        "\n",
        "#values of the start and end positions\n",
        "start_position=[0,0]\n",
        "end_position=[len(maze_list)-1,len(maze_list[0])-1]\n",
        "print(\"start position:\",start_position)\n",
        "print(\"end position:\",end_position)\n",
        "\n",
        "#directions:right,left,up,down\n",
        "directions=[(0,1),(0,-1),(1,0),(-1,0)]\n",
        "#find the path using a recursive function\n",
        "def find_path(maze_list,start_pos,end_pos):\n",
        "    if start_pos==end_pos:\n",
        "        return True\n",
        "    else:\n",
        "        for direction in directions:\n",
        "            new_pos=[start_pos[0]+direction[0],start_pos[1]+direction[1]]\n",
        "\n",
        "            if 0<=new_pos[0]<len(maze_list) and 0<=new_pos[1]<len(maze_list[0]) and maze_list[new_pos[0]][new_pos[1]]==\".\":\n",
        "                maze_list[new_pos[0]][new_pos[1]]=\"X\"\n",
        "                if find_path(maze_list,new_pos,end_pos):\n",
        "                    return True\n",
        "        if maze_list[0][0]==\"V\":\n",
        "            maze_list[0][0]=\"X\"\n",
        "        maze_list[start_pos[0]][start_pos[1]]=\"V\"\n",
        "        return False\n",
        "\n",
        "#call the function\n",
        "if find_path(maze_list,start_position,end_position):\n",
        "    print(\"path found!\")\n",
        "else:\n",
        "    print(\"no path found!\")\n",
        "\n",
        "#replace \"V\" with \".\"\n",
        "for row in maze_list:\n",
        "    for i in range(len(row)):\n",
        "        if row[i]==\"V\":\n",
        "            row[i]=\".\"\n",
        "\n",
        "#write the path to a new file\n",
        "file=open(\"maze-out.mz.txt\",\"w\")\n",
        "for row in maze_list:\n",
        "    file.write(\"\".join(row)+\"\\n\") #add newline character\n",
        "file.close()"
      ],
      "metadata": {
        "colab": {
          "base_uri": "https://localhost:8080/"
        },
        "id": "KeLoHPmX3448",
        "outputId": "e9a14abb-8091-4708-a38d-25a021389e86"
      },
      "execution_count": null,
      "outputs": [
        {
          "output_type": "stream",
          "name": "stdout",
          "text": [
            "start position: [0, 0]\n",
            "end position: [100, 150]\n",
            "path found!\n"
          ]
        }
      ]
    },
    {
      "cell_type": "markdown",
      "source": [
        "Job 4.4"
      ],
      "metadata": {
        "id": "hL0YElY26AOb"
      }
    },
    {
      "cell_type": "code",
      "source": [
        "def match_strings(s1, s2):\n",
        "    def is_match_recursive(s1_idx, s2_idx):\n",
        "        if s1_idx == len(s1) and s2_idx == len(s2):\n",
        "            return True\n",
        "        if s2_idx == len(s2):\n",
        "            return False\n",
        "\n",
        "        if s2[s2_idx] == '*':\n",
        "            for i in range(s1_idx, len(s1) + 1):\n",
        "                if is_match_recursive(i, s2_idx + 1):\n",
        "                    return True\n",
        "        elif s1_idx < len(s1) and (s1[s1_idx] == s2[s2_idx] or s2[s2_idx] == '?'):\n",
        "            return is_match_recursive(s1_idx + 1, s2_idx + 1)\n",
        "\n",
        "        return False\n",
        "\n",
        "    return 1 if is_match_recursive(0, 0) else 0\n",
        "\n",
        "if __name__ == \"__main__\":\n",
        "    string1 = input(\"Enter the first string: \")\n",
        "    string2 = input(\"Enter the second string with '*' as wildcards: \")\n",
        "\n",
        "    result = match_strings(string1, string2)\n",
        "\n",
        "    print(\"Result:\", result)"
      ],
      "metadata": {
        "colab": {
          "base_uri": "https://localhost:8080/"
        },
        "id": "KnRIVcm16C5a",
        "outputId": "b46919b4-aa7e-4d5a-aa34-000eb88f7aec"
      },
      "execution_count": null,
      "outputs": [
        {
          "output_type": "stream",
          "name": "stdout",
          "text": [
            "Enter the first string: theplatform\n",
            "Enter the second string with '*' as wildcards: thep*\n",
            "Result: 1\n"
          ]
        }
      ]
    }
  ]
}